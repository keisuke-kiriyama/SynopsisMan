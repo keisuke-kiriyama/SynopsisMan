{
 "cells": [
  {
   "cell_type": "code",
   "execution_count": 8,
   "metadata": {},
   "outputs": [],
   "source": [
    "from data_construction.similarity_between_contents_and_synopsis_sentence import most_similarity_between_contents_and_synopsis_sentence"
   ]
  },
  {
   "cell_type": "code",
   "execution_count": 18,
   "metadata": {},
   "outputs": [],
   "source": [
    "from util.text_processor import cleaning, remove_stop_word, get_BoW_vectors, cos_sim\n",
    "import time\n",
    "import numpy as np\n",
    "from util.corpus_accessor import CorpusAccessor\n",
    "import joblib\n",
    "from gensim import corpora, matutils\n",
    "import MeCab\n",
    "import re"
   ]
  },
  {
   "cell_type": "code",
   "execution_count": 10,
   "metadata": {},
   "outputs": [],
   "source": [
    "ncode = 'n7456bq'\n",
    "corpus_accessor = CorpusAccessor()"
   ]
  },
  {
   "cell_type": "code",
   "execution_count": 11,
   "metadata": {},
   "outputs": [],
   "source": [
    "contents_lines = corpus_accessor.get_contents_lines(ncode)\n",
    "synopsis_lines = corpus_accessor.get_synopsis_lines(ncode)"
   ]
  },
  {
   "cell_type": "code",
   "execution_count": 12,
   "metadata": {},
   "outputs": [
    {
     "name": "stdout",
     "output_type": "stream",
     "text": [
      "elapsed_time:34.000850[sec]\n"
     ]
    }
   ],
   "source": [
    "start = time.time()\n",
    "\n",
    "removed_contents_lines = [remove_stop_word(cleaning(line)) for line in contents_lines]\n",
    "removed_synopsis_lines = [remove_stop_word(cleaning(line)) for line in synopsis_lines]\n",
    "all_lines = removed_contents_lines + removed_synopsis_lines\n",
    "\n",
    "elapsed_time = time.time() - start\n",
    "print(\"elapsed_time:{:3f}\".format(elapsed_time) + \"[sec]\")"
   ]
  },
  {
   "cell_type": "code",
   "execution_count": 13,
   "metadata": {},
   "outputs": [
    {
     "name": "stdout",
     "output_type": "stream",
     "text": [
      "elapsed_time:0.815127[sec]\n"
     ]
    }
   ],
   "source": [
    "start = time.time()\n",
    "\n",
    "vocaburaly = corpora.Dictionary(all_lines)\n",
    "contents_BoWs = [vocaburaly.doc2bow(line) for line in removed_contents_lines]\n",
    "synopsis_BoWs = [vocaburaly.doc2bow(line) for line in removed_synopsis_lines]\n",
    "\n",
    "elapsed_time = time.time() - start\n",
    "print(\"elapsed_time:{:3f}\".format(elapsed_time) + \"[sec]\")"
   ]
  },
  {
   "cell_type": "code",
   "execution_count": 14,
   "metadata": {},
   "outputs": [
    {
     "name": "stdout",
     "output_type": "stream",
     "text": [
      "elapsed_time:1.691265[sec]\n"
     ]
    }
   ],
   "source": [
    "start = time.time()\n",
    "\n",
    "contents_vectors = [np.array(matutils.corpus2dense([bow], num_terms=len(vocaburaly)).T[0]) for bow in contents_BoWs]\n",
    "synopsis_vectors = [np.array(matutils.corpus2dense([bow], num_terms=len(vocaburaly)).T[0]) for bow in synopsis_BoWs]\n",
    "\n",
    "elapsed_time = time.time() - start\n",
    "print(\"elapsed_time:{:3f}\".format(elapsed_time) + \"[sec]\")"
   ]
  },
  {
   "cell_type": "code",
   "execution_count": 24,
   "metadata": {},
   "outputs": [
    {
     "name": "stdout",
     "output_type": "stream",
     "text": [
      "elapsed_time:522.170844[sec]\n",
      "elapsed_time:522.171620[sec]\n"
     ]
    }
   ],
   "source": [
    "sentence = '8月3日に放送された「中居正広の金曜日のスマイルたちへ」(TBS系)で、1日たった5分でぽっこりおなかを解消するという' \\\n",
    "              'ダイエット方法を紹介。キンタロー。のダイエットにも密着。'\n",
    "part = ['名詞', '動詞', '形容詞', '副詞']\n",
    "strat = time.time()\n",
    "m = MeCab.Tagger('-d /usr/local/lib/mecab/dic/mecab-ipadic-neologd')\n",
    "morphs = m.parse(sentence).split('\\n')\n",
    "elapsed_time = time.time() - start\n",
    "print(\"elapsed_time:{:3f}\".format(elapsed_time) + \"[sec]\")\n",
    "strat = time.time()\n",
    "removed = []\n",
    "for morph in morphs:\n",
    "    splited = re.split('[,\\t]', morph)\n",
    "    if len(splited) < 2: continue\n",
    "    if splited[1] in part:\n",
    "        removed.append(splited[0])\n",
    "elapsed_time = time.time() - start\n",
    "print(\"elapsed_time:{:3f}\".format(elapsed_time) + \"[sec]\")"
   ]
  },
  {
   "cell_type": "code",
   "execution_count": null,
   "metadata": {},
   "outputs": [],
   "source": []
  }
 ],
 "metadata": {
  "kernelspec": {
   "display_name": "Python 3",
   "language": "python",
   "name": "python3"
  },
  "language_info": {
   "codemirror_mode": {
    "name": "ipython",
    "version": 3
   },
   "file_extension": ".py",
   "mimetype": "text/x-python",
   "name": "python",
   "nbconvert_exporter": "python",
   "pygments_lexer": "ipython3",
   "version": "3.6.1"
  }
 },
 "nbformat": 4,
 "nbformat_minor": 2
}
