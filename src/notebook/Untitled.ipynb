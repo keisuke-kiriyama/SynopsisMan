{
 "cells": [
  {
   "cell_type": "code",
   "execution_count": 2,
   "metadata": {},
   "outputs": [],
   "source": [
    "from data_supplier.vector_supplier import VectorSupplier\n",
    "from util.corpus_accessor import CorpusAccessor\n",
    "import data_supplier"
   ]
  },
  {
   "cell_type": "code",
   "execution_count": 3,
   "metadata": {
    "scrolled": true
   },
   "outputs": [
    {
     "name": "stdout",
     "output_type": "stream",
     "text": [
      "[INFO] loading splited ncodes data...\n",
      "[INFO] train ncodes count: 726\n",
      "[INFO] validation ncodes count: 8\n",
      "[INFO] test ncodes count: 184\n"
     ]
    }
   ],
   "source": [
    "sup = VectorSupplier(use_data_of_word_embedding_avg_vector=True,\n",
    "                          use_data_of_position_of_sentence=True,\n",
    "                          use_data_of_is_serif=False,\n",
    "                          use_data_of_is_include_person=False,\n",
    "                          use_data_of_sentence_length=False)"
   ]
  },
  {
   "cell_type": "code",
   "execution_count": 4,
   "metadata": {},
   "outputs": [],
   "source": [
    "accessor = CorpusAccessor()"
   ]
  },
  {
   "cell_type": "code",
   "execution_count": 5,
   "metadata": {},
   "outputs": [],
   "source": [
    "gen = sup.train_data_generator()"
   ]
  },
  {
   "cell_type": "code",
   "execution_count": 10,
   "metadata": {},
   "outputs": [
    {
     "name": "stdout",
     "output_type": "stream",
     "text": [
      "13464\n"
     ]
    }
   ],
   "source": [
    "ncode = 'n0002ei'\n",
    "w = data_supplier.word_embedding_avg_vector_data_supplier.load(ncode)\n",
    "s = data_supplier.similarity_data_supplier.load(ncode)\n",
    "print(len(w.keys()))"
   ]
  },
  {
   "cell_type": "code",
   "execution_count": null,
   "metadata": {},
   "outputs": [],
   "source": []
  }
 ],
 "metadata": {
  "kernelspec": {
   "display_name": "Python 3",
   "language": "python",
   "name": "python3"
  },
  "language_info": {
   "codemirror_mode": {
    "name": "ipython",
    "version": 3
   },
   "file_extension": ".py",
   "mimetype": "text/x-python",
   "name": "python",
   "nbconvert_exporter": "python",
   "pygments_lexer": "ipython3",
   "version": "3.6.1"
  }
 },
 "nbformat": 4,
 "nbformat_minor": 2
}
