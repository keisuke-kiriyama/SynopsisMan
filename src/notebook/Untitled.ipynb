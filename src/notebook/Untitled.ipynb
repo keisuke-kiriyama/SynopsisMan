{
 "cells": [
  {
   "cell_type": "code",
   "execution_count": 6,
   "metadata": {
    "scrolled": true
   },
   "outputs": [
    {
     "name": "stdout",
     "output_type": "stream",
     "text": [
      "The autoreload extension is already loaded. To reload it, use:\n",
      "  %reload_ext autoreload\n"
     ]
    }
   ],
   "source": [
    "%load_ext autoreload\n",
    "%autoreload 2\n",
    "from data_supplier.similarity_data_supplier import load\n",
    "from util.corpus_accessor import CorpusAccessor\n",
    "import numpy as np"
   ]
  },
  {
   "cell_type": "code",
   "execution_count": 7,
   "metadata": {},
   "outputs": [],
   "source": [
    "accessor = CorpusAccessor()"
   ]
  },
  {
   "cell_type": "code",
   "execution_count": 45,
   "metadata": {},
   "outputs": [],
   "source": [
    "ncode = 'n0019bv'\n",
    "data = load(ncode)\n",
    "contents_lines = accessor.get_contents_lines(ncode)\n",
    "synopsis_lines = accessor.get_synopsis_lines(ncode)"
   ]
  },
  {
   "cell_type": "code",
   "execution_count": 46,
   "metadata": {},
   "outputs": [],
   "source": [
    "high_score_line_indexes = np.argsort(-np.array(list(data.values())))[:6]"
   ]
  },
  {
   "cell_type": "code",
   "execution_count": 47,
   "metadata": {},
   "outputs": [
    {
     "data": {
      "text/plain": [
       "array([ 2, 54, 77, 39, 33, 15])"
      ]
     },
     "execution_count": 47,
     "metadata": {},
     "output_type": "execute_result"
    }
   ],
   "source": [
    "high_score_line_indexes"
   ]
  },
  {
   "cell_type": "code",
   "execution_count": 48,
   "metadata": {},
   "outputs": [
    {
     "data": {
      "text/plain": [
       "array(['それもその筈、ここは女性向け学園オンラインゲーム「ラズベリー☆レッド」の舞台なのだから！',\n",
       "       '今のところ、＜プレイヤー＞さんでこの条件をクリアした人はいないけど、私はにして家がお隣さんと言う事で、特別に教えてもらってます。',\n",
       "       '「攻略キャラだの恋愛イベントだの、俺には荷が重過ぎる。攻略キャラの学費免除に釣られて入学した当時の俺をシメてやりたいっ」言いながら、特殊偽装アイテム【眼鏡】を外す。',\n",
       "       'これは、イベントがきちんと行われるよう、攻略キャラと私達一般キャラを、同じ場にいながら分離するシステムの事。',\n",
       "       'すると、それを見送っていた＜プレイヤー＞さんは、３秒程でヒュッと姿が消えてしまった。',\n",
       "       'とにかく、そんな副会長サンの、１０００分の１の確率でしか発生しないレアなちょい甘イベントが、現在中庭の藤棚下で発生中――全て恵美ちゃん情報――らしいので、それを見に行くそうな。'],\n",
       "      dtype='<U161')"
      ]
     },
     "execution_count": 48,
     "metadata": {},
     "output_type": "execute_result"
    }
   ],
   "source": [
    "np.array(contents_lines)[high_score_line_indexes]"
   ]
  },
  {
   "cell_type": "code",
   "execution_count": 49,
   "metadata": {},
   "outputs": [
    {
     "data": {
      "text/plain": [
       "['ある隠しキャラが攻略不能となった後で、学園の中庭にて発生した、鬼畜眼鏡な生徒会副会長のレアイベント。',\n",
       " 'それを一般キャラの結子（ゆうこ）は、のほほんと眺めていた。',\n",
       " '女性向け学園オンラインゲーム「ラズベリー☆レッド」で繰り広げられるイベント……の裏側なお話。',\n",
       " '※連載版【隠しキャラが攻略不能な理由】にも掲載してあります。']"
      ]
     },
     "execution_count": 49,
     "metadata": {},
     "output_type": "execute_result"
    }
   ],
   "source": [
    "synopsis_lines"
   ]
  },
  {
   "cell_type": "code",
   "execution_count": null,
   "metadata": {},
   "outputs": [],
   "source": []
  }
 ],
 "metadata": {
  "kernelspec": {
   "display_name": "Python 3",
   "language": "python",
   "name": "python3"
  },
  "language_info": {
   "codemirror_mode": {
    "name": "ipython",
    "version": 3
   },
   "file_extension": ".py",
   "mimetype": "text/x-python",
   "name": "python",
   "nbconvert_exporter": "python",
   "pygments_lexer": "ipython3",
   "version": "3.6.1"
  }
 },
 "nbformat": 4,
 "nbformat_minor": 2
}
