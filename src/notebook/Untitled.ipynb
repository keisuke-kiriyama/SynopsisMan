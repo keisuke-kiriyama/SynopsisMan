{
 "cells": [
  {
   "cell_type": "code",
   "execution_count": 1,
   "metadata": {},
   "outputs": [],
   "source": [
    "from data_supplier.vector_supplier import VectorSupplier\n",
    "from util.corpus_accessor import CorpusAccessor\n",
    "import data_supplier\n",
    "from data_supplier.vector_supplier import VectorSupplier"
   ]
  },
  {
   "cell_type": "code",
   "execution_count": 2,
   "metadata": {
    "scrolled": true
   },
   "outputs": [
    {
     "name": "stdout",
     "output_type": "stream",
     "text": [
      "[INFO] loading splited ncodes data...\n",
      "[INFO] train ncodes count: 726\n",
      "[INFO] validation ncodes count: 8\n",
      "[INFO] test ncodes count: 184\n",
      "[INFO] sentence counting progress: 0.0%\n",
      "1446018\n",
      "[INFO] sentence counting progress: 0.0%\n",
      "25588\n"
     ]
    }
   ],
   "source": [
    "sup = VectorSupplier(use_data_of_word_embedding_avg_vector=True,\n",
    "                          use_data_of_position_of_sentence=True,\n",
    "                          use_data_of_is_serif=False,\n",
    "                          use_data_of_is_include_person=False,\n",
    "                          use_data_of_sentence_length=False)\n",
    "# sup.train_ncodes = ['n3461cg']"
   ]
  },
  {
   "cell_type": "code",
   "execution_count": 5,
   "metadata": {},
   "outputs": [],
   "source": [
    "gen = sup.train_data_generator()\n",
    "for i in range(sup.train_steps_per_epoch):\n",
    "    next(gen)"
   ]
  },
  {
   "cell_type": "code",
   "execution_count": 4,
   "metadata": {},
   "outputs": [
    {
     "name": "stdout",
     "output_type": "stream",
     "text": [
      "18589\n",
      "n3461cg\n"
     ]
    },
    {
     "ename": "KeyboardInterrupt",
     "evalue": "",
     "output_type": "error",
     "traceback": [
      "\u001b[0;31m-------------------------------------------------------------\u001b[0m",
      "\u001b[0;31mKeyboardInterrupt\u001b[0m           Traceback (most recent call last)",
      "\u001b[0;32m<ipython-input-4-821d250c2d5b>\u001b[0m in \u001b[0;36m<module>\u001b[0;34m()\u001b[0m\n\u001b[1;32m      1\u001b[0m \u001b[0;32mimport\u001b[0m \u001b[0mnumpy\u001b[0m \u001b[0;32mas\u001b[0m \u001b[0mnp\u001b[0m\u001b[0;34m\u001b[0m\u001b[0m\n\u001b[1;32m      2\u001b[0m \u001b[0;32mfor\u001b[0m \u001b[0mncode\u001b[0m \u001b[0;32min\u001b[0m \u001b[0msup\u001b[0m\u001b[0;34m.\u001b[0m\u001b[0mtrain_ncodes\u001b[0m\u001b[0;34m:\u001b[0m\u001b[0;34m\u001b[0m\u001b[0m\n\u001b[0;32m----> 3\u001b[0;31m     \u001b[0mw\u001b[0m \u001b[0;34m=\u001b[0m \u001b[0mdata_supplier\u001b[0m\u001b[0;34m.\u001b[0m\u001b[0mword_embedding_avg_vector_data_supplier\u001b[0m\u001b[0;34m.\u001b[0m\u001b[0mload\u001b[0m\u001b[0;34m(\u001b[0m\u001b[0mncode\u001b[0m\u001b[0;34m)\u001b[0m\u001b[0;34m\u001b[0m\u001b[0m\n\u001b[0m\u001b[1;32m      4\u001b[0m     \u001b[0;32mfor\u001b[0m \u001b[0mi\u001b[0m\u001b[0;34m,\u001b[0m \u001b[0mv\u001b[0m \u001b[0;32min\u001b[0m \u001b[0menumerate\u001b[0m\u001b[0;34m(\u001b[0m\u001b[0mw\u001b[0m\u001b[0;34m.\u001b[0m\u001b[0mvalues\u001b[0m\u001b[0;34m(\u001b[0m\u001b[0;34m)\u001b[0m\u001b[0;34m)\u001b[0m\u001b[0;34m:\u001b[0m\u001b[0;34m\u001b[0m\u001b[0m\n\u001b[1;32m      5\u001b[0m         \u001b[0;32mif\u001b[0m \u001b[0;32mnot\u001b[0m \u001b[0mtype\u001b[0m\u001b[0;34m(\u001b[0m\u001b[0mv\u001b[0m\u001b[0;34m)\u001b[0m \u001b[0;34m==\u001b[0m \u001b[0mnp\u001b[0m\u001b[0;34m.\u001b[0m\u001b[0mndarray\u001b[0m\u001b[0;34m:\u001b[0m\u001b[0;34m\u001b[0m\u001b[0m\n",
      "\u001b[0;32m~/src/github.com/keisuke-kiriyama/SynopsisMan/src/data_supplier/word_embedding_avg_vector_data_supplier.py\u001b[0m in \u001b[0;36mload\u001b[0;34m(ncode)\u001b[0m\n\u001b[1;32m      3\u001b[0m \u001b[0;34m\u001b[0m\u001b[0m\n\u001b[1;32m      4\u001b[0m \u001b[0;32mdef\u001b[0m \u001b[0mload\u001b[0m\u001b[0;34m(\u001b[0m\u001b[0mncode\u001b[0m\u001b[0;34m)\u001b[0m\u001b[0;34m:\u001b[0m\u001b[0;34m\u001b[0m\u001b[0m\n\u001b[0;32m----> 5\u001b[0;31m     \u001b[0;32mreturn\u001b[0m \u001b[0mload_from_ncode\u001b[0m\u001b[0;34m(\u001b[0m\u001b[0mncode\u001b[0m\u001b[0;34m,\u001b[0m \u001b[0mdir_path\u001b[0m\u001b[0;34m=\u001b[0m\u001b[0mWORD_EMBEDDING_AVG_VECTOR_CONTENTS_PATH\u001b[0m\u001b[0;34m)\u001b[0m\u001b[0;34m\u001b[0m\u001b[0m\n\u001b[0m",
      "\u001b[0;32m~/src/github.com/keisuke-kiriyama/SynopsisMan/src/data_supplier/common_data_supplier.py\u001b[0m in \u001b[0;36mload_from_ncode\u001b[0;34m(ncode, dir_path)\u001b[0m\n\u001b[1;32m      8\u001b[0m     \u001b[0mfile_path\u001b[0m \u001b[0;34m=\u001b[0m \u001b[0mfile_path_from_ncode\u001b[0m\u001b[0;34m(\u001b[0m\u001b[0mncode\u001b[0m\u001b[0;34m,\u001b[0m \u001b[0mdir_path\u001b[0m\u001b[0;34m)\u001b[0m\u001b[0;34m\u001b[0m\u001b[0m\n\u001b[1;32m      9\u001b[0m     \u001b[0;32mwith\u001b[0m \u001b[0mopen\u001b[0m\u001b[0;34m(\u001b[0m\u001b[0mfile_path\u001b[0m \u001b[0;34m,\u001b[0m \u001b[0;34m'rb'\u001b[0m\u001b[0;34m)\u001b[0m \u001b[0;32mas\u001b[0m \u001b[0mf\u001b[0m\u001b[0;34m:\u001b[0m\u001b[0;34m\u001b[0m\u001b[0m\n\u001b[0;32m---> 10\u001b[0;31m         \u001b[0mdata\u001b[0m \u001b[0;34m=\u001b[0m \u001b[0mjoblib\u001b[0m\u001b[0;34m.\u001b[0m\u001b[0mload\u001b[0m\u001b[0;34m(\u001b[0m\u001b[0mf\u001b[0m\u001b[0;34m)\u001b[0m\u001b[0;34m\u001b[0m\u001b[0m\n\u001b[0m\u001b[1;32m     11\u001b[0m     \u001b[0;32mreturn\u001b[0m \u001b[0mdata\u001b[0m\u001b[0;34m\u001b[0m\u001b[0m\n",
      "\u001b[0;32m~/.pyenv/versions/3.6.1/envs/synopsis_man/lib/python3.6/site-packages/joblib/numpy_pickle.py\u001b[0m in \u001b[0;36mload\u001b[0;34m(filename, mmap_mode)\u001b[0m\n\u001b[1;32m    584\u001b[0m         \u001b[0mfilename\u001b[0m \u001b[0;34m=\u001b[0m \u001b[0mgetattr\u001b[0m\u001b[0;34m(\u001b[0m\u001b[0mfobj\u001b[0m\u001b[0;34m,\u001b[0m \u001b[0;34m'name'\u001b[0m\u001b[0;34m,\u001b[0m \u001b[0;34m''\u001b[0m\u001b[0;34m)\u001b[0m\u001b[0;34m\u001b[0m\u001b[0m\n\u001b[1;32m    585\u001b[0m         \u001b[0;32mwith\u001b[0m \u001b[0m_read_fileobject\u001b[0m\u001b[0;34m(\u001b[0m\u001b[0mfobj\u001b[0m\u001b[0;34m,\u001b[0m \u001b[0mfilename\u001b[0m\u001b[0;34m,\u001b[0m \u001b[0mmmap_mode\u001b[0m\u001b[0;34m)\u001b[0m \u001b[0;32mas\u001b[0m \u001b[0mfobj\u001b[0m\u001b[0;34m:\u001b[0m\u001b[0;34m\u001b[0m\u001b[0m\n\u001b[0;32m--> 586\u001b[0;31m             \u001b[0mobj\u001b[0m \u001b[0;34m=\u001b[0m \u001b[0m_unpickle\u001b[0m\u001b[0;34m(\u001b[0m\u001b[0mfobj\u001b[0m\u001b[0;34m)\u001b[0m\u001b[0;34m\u001b[0m\u001b[0m\n\u001b[0m\u001b[1;32m    587\u001b[0m     \u001b[0;32melse\u001b[0m\u001b[0;34m:\u001b[0m\u001b[0;34m\u001b[0m\u001b[0m\n\u001b[1;32m    588\u001b[0m         \u001b[0;32mwith\u001b[0m \u001b[0mopen\u001b[0m\u001b[0;34m(\u001b[0m\u001b[0mfilename\u001b[0m\u001b[0;34m,\u001b[0m \u001b[0;34m'rb'\u001b[0m\u001b[0;34m)\u001b[0m \u001b[0;32mas\u001b[0m \u001b[0mf\u001b[0m\u001b[0;34m:\u001b[0m\u001b[0;34m\u001b[0m\u001b[0m\n",
      "\u001b[0;32m~/.pyenv/versions/3.6.1/envs/synopsis_man/lib/python3.6/site-packages/joblib/numpy_pickle.py\u001b[0m in \u001b[0;36m_unpickle\u001b[0;34m(fobj, filename, mmap_mode)\u001b[0m\n\u001b[1;32m    522\u001b[0m     \u001b[0mobj\u001b[0m \u001b[0;34m=\u001b[0m \u001b[0;32mNone\u001b[0m\u001b[0;34m\u001b[0m\u001b[0m\n\u001b[1;32m    523\u001b[0m     \u001b[0;32mtry\u001b[0m\u001b[0;34m:\u001b[0m\u001b[0;34m\u001b[0m\u001b[0m\n\u001b[0;32m--> 524\u001b[0;31m         \u001b[0mobj\u001b[0m \u001b[0;34m=\u001b[0m \u001b[0munpickler\u001b[0m\u001b[0;34m.\u001b[0m\u001b[0mload\u001b[0m\u001b[0;34m(\u001b[0m\u001b[0;34m)\u001b[0m\u001b[0;34m\u001b[0m\u001b[0m\n\u001b[0m\u001b[1;32m    525\u001b[0m         \u001b[0;32mif\u001b[0m \u001b[0munpickler\u001b[0m\u001b[0;34m.\u001b[0m\u001b[0mcompat_mode\u001b[0m\u001b[0;34m:\u001b[0m\u001b[0;34m\u001b[0m\u001b[0m\n\u001b[1;32m    526\u001b[0m             warnings.warn(\"The file '%s' has been generated with a \"\n",
      "\u001b[0;32m~/.pyenv/versions/3.6.1/lib/python3.6/pickle.py\u001b[0m in \u001b[0;36mload\u001b[0;34m(self)\u001b[0m\n\u001b[1;32m   1048\u001b[0m                     \u001b[0;32mraise\u001b[0m \u001b[0mEOFError\u001b[0m\u001b[0;34m\u001b[0m\u001b[0m\n\u001b[1;32m   1049\u001b[0m                 \u001b[0;32massert\u001b[0m \u001b[0misinstance\u001b[0m\u001b[0;34m(\u001b[0m\u001b[0mkey\u001b[0m\u001b[0;34m,\u001b[0m \u001b[0mbytes_types\u001b[0m\u001b[0;34m)\u001b[0m\u001b[0;34m\u001b[0m\u001b[0m\n\u001b[0;32m-> 1050\u001b[0;31m                 \u001b[0mdispatch\u001b[0m\u001b[0;34m[\u001b[0m\u001b[0mkey\u001b[0m\u001b[0;34m[\u001b[0m\u001b[0;36m0\u001b[0m\u001b[0;34m]\u001b[0m\u001b[0;34m]\u001b[0m\u001b[0;34m(\u001b[0m\u001b[0mself\u001b[0m\u001b[0;34m)\u001b[0m\u001b[0;34m\u001b[0m\u001b[0m\n\u001b[0m\u001b[1;32m   1051\u001b[0m         \u001b[0;32mexcept\u001b[0m \u001b[0m_Stop\u001b[0m \u001b[0;32mas\u001b[0m \u001b[0mstopinst\u001b[0m\u001b[0;34m:\u001b[0m\u001b[0;34m\u001b[0m\u001b[0m\n\u001b[1;32m   1052\u001b[0m             \u001b[0;32mreturn\u001b[0m \u001b[0mstopinst\u001b[0m\u001b[0;34m.\u001b[0m\u001b[0mvalue\u001b[0m\u001b[0;34m\u001b[0m\u001b[0m\n",
      "\u001b[0;32m~/.pyenv/versions/3.6.1/envs/synopsis_man/lib/python3.6/site-packages/joblib/numpy_pickle.py\u001b[0m in \u001b[0;36mload_build\u001b[0;34m(self)\u001b[0m\n\u001b[1;32m    350\u001b[0m             \u001b[0;32mif\u001b[0m \u001b[0misinstance\u001b[0m\u001b[0;34m(\u001b[0m\u001b[0marray_wrapper\u001b[0m\u001b[0;34m,\u001b[0m \u001b[0mNDArrayWrapper\u001b[0m\u001b[0;34m)\u001b[0m\u001b[0;34m:\u001b[0m\u001b[0;34m\u001b[0m\u001b[0m\n\u001b[1;32m    351\u001b[0m                 \u001b[0mself\u001b[0m\u001b[0;34m.\u001b[0m\u001b[0mcompat_mode\u001b[0m \u001b[0;34m=\u001b[0m \u001b[0;32mTrue\u001b[0m\u001b[0;34m\u001b[0m\u001b[0m\n\u001b[0;32m--> 352\u001b[0;31m             \u001b[0mself\u001b[0m\u001b[0;34m.\u001b[0m\u001b[0mstack\u001b[0m\u001b[0;34m.\u001b[0m\u001b[0mappend\u001b[0m\u001b[0;34m(\u001b[0m\u001b[0marray_wrapper\u001b[0m\u001b[0;34m.\u001b[0m\u001b[0mread\u001b[0m\u001b[0;34m(\u001b[0m\u001b[0mself\u001b[0m\u001b[0;34m)\u001b[0m\u001b[0;34m)\u001b[0m\u001b[0;34m\u001b[0m\u001b[0m\n\u001b[0m\u001b[1;32m    353\u001b[0m \u001b[0;34m\u001b[0m\u001b[0m\n\u001b[1;32m    354\u001b[0m     \u001b[0;31m# Be careful to register our new method.\u001b[0m\u001b[0;34m\u001b[0m\u001b[0;34m\u001b[0m\u001b[0m\n",
      "\u001b[0;32m~/.pyenv/versions/3.6.1/envs/synopsis_man/lib/python3.6/site-packages/joblib/numpy_pickle.py\u001b[0m in \u001b[0;36mread\u001b[0;34m(self, unpickler)\u001b[0m\n\u001b[1;32m    193\u001b[0m             \u001b[0marray\u001b[0m \u001b[0;34m=\u001b[0m \u001b[0mself\u001b[0m\u001b[0;34m.\u001b[0m\u001b[0mread_mmap\u001b[0m\u001b[0;34m(\u001b[0m\u001b[0munpickler\u001b[0m\u001b[0;34m)\u001b[0m\u001b[0;34m\u001b[0m\u001b[0m\n\u001b[1;32m    194\u001b[0m         \u001b[0;32melse\u001b[0m\u001b[0;34m:\u001b[0m\u001b[0;34m\u001b[0m\u001b[0m\n\u001b[0;32m--> 195\u001b[0;31m             \u001b[0marray\u001b[0m \u001b[0;34m=\u001b[0m \u001b[0mself\u001b[0m\u001b[0;34m.\u001b[0m\u001b[0mread_array\u001b[0m\u001b[0;34m(\u001b[0m\u001b[0munpickler\u001b[0m\u001b[0;34m)\u001b[0m\u001b[0;34m\u001b[0m\u001b[0m\n\u001b[0m\u001b[1;32m    196\u001b[0m \u001b[0;34m\u001b[0m\u001b[0m\n\u001b[1;32m    197\u001b[0m         \u001b[0;31m# Manage array subclass case\u001b[0m\u001b[0;34m\u001b[0m\u001b[0;34m\u001b[0m\u001b[0m\n",
      "\u001b[0;32m~/.pyenv/versions/3.6.1/envs/synopsis_man/lib/python3.6/site-packages/joblib/numpy_pickle.py\u001b[0m in \u001b[0;36mread_array\u001b[0;34m(self, unpickler)\u001b[0m\n\u001b[1;32m    144\u001b[0m                     \u001b[0mread_size\u001b[0m \u001b[0;34m=\u001b[0m \u001b[0mint\u001b[0m\u001b[0;34m(\u001b[0m\u001b[0mread_count\u001b[0m \u001b[0;34m*\u001b[0m \u001b[0mself\u001b[0m\u001b[0;34m.\u001b[0m\u001b[0mdtype\u001b[0m\u001b[0;34m.\u001b[0m\u001b[0mitemsize\u001b[0m\u001b[0;34m)\u001b[0m\u001b[0;34m\u001b[0m\u001b[0m\n\u001b[1;32m    145\u001b[0m                     data = _read_bytes(unpickler.file_handle,\n\u001b[0;32m--> 146\u001b[0;31m                                        read_size, \"array data\")\n\u001b[0m\u001b[1;32m    147\u001b[0m                     \u001b[0marray\u001b[0m\u001b[0;34m[\u001b[0m\u001b[0mi\u001b[0m\u001b[0;34m:\u001b[0m\u001b[0mi\u001b[0m \u001b[0;34m+\u001b[0m \u001b[0mread_count\u001b[0m\u001b[0;34m]\u001b[0m \u001b[0;34m=\u001b[0m\u001b[0;31m \u001b[0m\u001b[0;31m\\\u001b[0m\u001b[0;34m\u001b[0m\u001b[0m\n\u001b[1;32m    148\u001b[0m                         unpickler.np.frombuffer(data, dtype=self.dtype,\n",
      "\u001b[0;31mKeyboardInterrupt\u001b[0m: "
     ]
    }
   ],
   "source": [
    "import numpy as np\n",
    "for ncode in sup.train_ncodes:\n",
    "    w = data_supplier.word_embedding_avg_vector_data_supplier.load(ncode)\n",
    "    for i, v in enumerate(w.values()):\n",
    "        if not type(v) == np.ndarray:\n",
    "            print(i)\n",
    "            print(ncode)\n"
   ]
  },
  {
   "cell_type": "code",
   "execution_count": 25,
   "metadata": {},
   "outputs": [
    {
     "name": "stdout",
     "output_type": "stream",
     "text": [
      "[INFO] loading splited ncodes data...\n",
      "[INFO] train ncodes count: 223\n",
      "[INFO] test ncodes count: 57\n",
      "[INFO] validation ncodes count: 3\n"
     ]
    }
   ],
   "source": [
    "supplier = VectorSupplier('fantasy',\n",
    "                                       use_data_of_word_embedding_avg_vector=True,\n",
    "                                       use_data_of_position_of_sentence=True,\n",
    "                                       use_data_of_is_serif=True,\n",
    "                                       use_data_of_is_include_person=True,\n",
    "                                       use_data_of_sentence_length=True)"
   ]
  },
  {
   "cell_type": "code",
   "execution_count": 26,
   "metadata": {},
   "outputs": [
    {
     "data": {
      "text/plain": [
       "['n0124ds',\n",
       " 'n1161ds',\n",
       " 'n5005cj',\n",
       " 'n7767dj',\n",
       " 'n4033ev',\n",
       " 'n9788bi',\n",
       " 'n2988er',\n",
       " 'n1122x',\n",
       " 'n9925dy',\n",
       " 'n7715er',\n",
       " 'n1119dr',\n",
       " 'n1345bv',\n",
       " 'n4165eo',\n",
       " 'n5646dd',\n",
       " 'n3119cn',\n",
       " 'n4883dk',\n",
       " 'n5760eq',\n",
       " 'n1830cn',\n",
       " 'n8400cv',\n",
       " 'n8110eq',\n",
       " 'n5580cd',\n",
       " 'n8759cq',\n",
       " 'n8727cw',\n",
       " 'n1875cl',\n",
       " 'n1185df',\n",
       " 'n9394dp',\n",
       " 'n6041bb',\n",
       " 'n6791cp',\n",
       " 'n5791t',\n",
       " 'n9369df',\n",
       " 'n2169y',\n",
       " 'n5314ds',\n",
       " 'n6222ev',\n",
       " 'n4348de',\n",
       " 'n2195dw',\n",
       " 'n6145cf',\n",
       " 'n7573dr',\n",
       " 'n2829dt',\n",
       " 'n6086ee',\n",
       " 'n1137e',\n",
       " 'n6803dp',\n",
       " 'n9746cd',\n",
       " 'n2077dq',\n",
       " 'n6763dh',\n",
       " 'n5108dw',\n",
       " 'n2326eo',\n",
       " 'n9770dj',\n",
       " 'n0603dh',\n",
       " 'n9485cg',\n",
       " 'n7939q',\n",
       " 'n7608dq',\n",
       " 'n1210en',\n",
       " 'n8345dk',\n",
       " 'n7594ct',\n",
       " 'n0403ci',\n",
       " 'n5374cd',\n",
       " 'n5653eh',\n",
       " 'n4085w',\n",
       " 'n5054ec',\n",
       " 'n6478bh',\n",
       " 'n5415dk',\n",
       " 'n6585ci',\n",
       " 'n6788cv',\n",
       " 'n3510dx',\n",
       " 'n3765dp',\n",
       " 'n6091eh',\n",
       " 'n5057ca',\n",
       " 'n8784cr',\n",
       " 'n0178ed',\n",
       " 'n3461cg',\n",
       " 'n6757cf',\n",
       " 'n3495en',\n",
       " 'n8626eu',\n",
       " 'n7226dp',\n",
       " 'n8371bv',\n",
       " 'n6782ck',\n",
       " 'n3988ev',\n",
       " 'n6932dz',\n",
       " 'n6152e',\n",
       " 'n7736cf',\n",
       " 'n4180e',\n",
       " 'n6287df',\n",
       " 'n6960ep',\n",
       " 'n4344dy',\n",
       " 'n8691bi',\n",
       " 'n7593eq',\n",
       " 'n5777di',\n",
       " 'n3829er',\n",
       " 'n0955el',\n",
       " 'n4978cy',\n",
       " 'n7469df',\n",
       " 'n7052x',\n",
       " 'n9145dj',\n",
       " 'n2999cy',\n",
       " 'n6247cr',\n",
       " 'n3863s',\n",
       " 'n5830dt',\n",
       " 'n8267ch',\n",
       " 'n2272cg',\n",
       " 'n4251cr',\n",
       " 'n2581ds',\n",
       " 'n7671ep',\n",
       " 'n0886dq',\n",
       " 'n7382da',\n",
       " 'n9669bk',\n",
       " 'n1095en',\n",
       " 'n4783dq',\n",
       " 'n6476eq',\n",
       " 'n0099ea',\n",
       " 'n3417di',\n",
       " 'n2154du',\n",
       " 'n4651co',\n",
       " 'n2744h',\n",
       " 'n7307dc',\n",
       " 'n0986dv',\n",
       " 'n4330cc',\n",
       " 'n0606dk',\n",
       " 'n0266cp',\n",
       " 'n7279er',\n",
       " 'n6556ep',\n",
       " 'n6970y',\n",
       " 'n0317ek',\n",
       " 'n5692s',\n",
       " 'n0582en',\n",
       " 'n4848dw',\n",
       " 'n5070cb',\n",
       " 'n6062cp',\n",
       " 'n0701bz',\n",
       " 'n8681cd',\n",
       " 'n2981dz',\n",
       " 'n8690cm',\n",
       " 'n0194cz',\n",
       " 'n2725eq',\n",
       " 'n2212dd',\n",
       " 'n3661ct',\n",
       " 'n2582cd',\n",
       " 'n3431dn',\n",
       " 'n4317es',\n",
       " 'n3520ee',\n",
       " 'n2161dm',\n",
       " 'n3007bo',\n",
       " 'n5859do',\n",
       " 'n3132cp',\n",
       " 'n0454cu',\n",
       " 'n2136ct',\n",
       " 'n4708dm',\n",
       " 'n7264ep',\n",
       " 'n6395en',\n",
       " 'n1475du',\n",
       " 'n3266en',\n",
       " 'n6612ea',\n",
       " 'n3854eb',\n",
       " 'n5423eq',\n",
       " 'n2251dv',\n",
       " 'n4562eg',\n",
       " 'n2197cc',\n",
       " 'n6238ep',\n",
       " 'n3086f',\n",
       " 'n6925cd',\n",
       " 'n6672bd',\n",
       " 'n5107dn',\n",
       " 'n7415df',\n",
       " 'n0759w',\n",
       " 'n9824er',\n",
       " 'n3372cj',\n",
       " 'n6272s',\n",
       " 'n7196da',\n",
       " 'n4793cc',\n",
       " 'n5976s',\n",
       " 'n2396cj',\n",
       " 'n7156dc',\n",
       " 'n0781ev',\n",
       " 'n2153ci',\n",
       " 'n2732ee',\n",
       " 'n3338du',\n",
       " 'n7750s',\n",
       " 'n7194da',\n",
       " 'n3824er',\n",
       " 'n1981cj',\n",
       " 'n3402dl',\n",
       " 'n6659de',\n",
       " 'n8913dz',\n",
       " 'n6624bv',\n",
       " 'n9863da',\n",
       " 'n9845ef',\n",
       " 'n4635db',\n",
       " 'n0688ch',\n",
       " 'n2170do',\n",
       " 'n3804er',\n",
       " 'n4475eg',\n",
       " 'n9063dt',\n",
       " 'n7687cc',\n",
       " 'n4491d',\n",
       " 'n2572dd',\n",
       " 'n8262et',\n",
       " 'n4890bm',\n",
       " 'n6730dz',\n",
       " 'n9793dp',\n",
       " 'n8954dh',\n",
       " 'n2697et',\n",
       " 'n3593y',\n",
       " 'n0880dz',\n",
       " 'n4343dt',\n",
       " 'n2822dv',\n",
       " 'n0977dc',\n",
       " 'n8623em',\n",
       " 'n0353bv',\n",
       " 'n7785bt',\n",
       " 'n6802do',\n",
       " 'n3377dn',\n",
       " 'n1048dt',\n",
       " 'n5923ed',\n",
       " 'n1228dp',\n",
       " 'n3406ek',\n",
       " 'n3476dq',\n",
       " 'n8185et',\n",
       " 'n4728dw',\n",
       " 'n5145cr',\n",
       " 'n9864bv',\n",
       " 'n5387eb',\n",
       " 'n5061du',\n",
       " 'n9926cv',\n",
       " 'n1114cs']"
      ]
     },
     "execution_count": 26,
     "metadata": {},
     "output_type": "execute_result"
    }
   ],
   "source": [
    "supplier.train_ncodes"
   ]
  },
  {
   "cell_type": "code",
   "execution_count": 13,
   "metadata": {},
   "outputs": [],
   "source": [
    "corpus = CorpusAccessor()\n",
    "import json\n",
    "def big_genre(ncode):\n",
    "    meta_file_path = corpus.create_meta_file_path(ncode)\n",
    "    with open(meta_file_path, 'r') as f:\n",
    "        data = json.load(f)\n",
    "    return data['biggenre']"
   ]
  },
  {
   "cell_type": "code",
   "execution_count": 27,
   "metadata": {},
   "outputs": [
    {
     "data": {
      "text/plain": [
       "2"
      ]
     },
     "execution_count": 27,
     "metadata": {},
     "output_type": "execute_result"
    }
   ],
   "source": [
    "big_genre('n0124ds')"
   ]
  },
  {
   "cell_type": "code",
   "execution_count": null,
   "metadata": {},
   "outputs": [],
   "source": []
  }
 ],
 "metadata": {
  "kernelspec": {
   "display_name": "Python 3",
   "language": "python",
   "name": "python3"
  },
  "language_info": {
   "codemirror_mode": {
    "name": "ipython",
    "version": 3
   },
   "file_extension": ".py",
   "mimetype": "text/x-python",
   "name": "python",
   "nbconvert_exporter": "python",
   "pygments_lexer": "ipython3",
   "version": "3.6.1"
  }
 },
 "nbformat": 4,
 "nbformat_minor": 2
}
